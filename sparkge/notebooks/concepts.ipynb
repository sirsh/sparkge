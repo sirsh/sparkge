{
 "cells": [
  {
   "cell_type": "code",
   "execution_count": null,
   "metadata": {
    "collapsed": false
   },
   "outputs": [],
   "source": [
    "from sparkge import *\n",
    "from sparkge.symbols import *"
   ]
  },
  {
   "cell_type": "markdown",
   "metadata": {},
   "source": [
    "# Concepts\n",
    "\n",
    "There are a few patterns and concepts used in sparkge which i should emphasize. These are 1) using closures for the expression process to make symbols \"self expressing\" instead of explicit use of an external grammar interpreter 2) spoofing a sparse matrix by using padded numpy ndarrays for all manipulation of genetic material and 3) of course, the manner in which we parallelize. "
   ]
  },
  {
   "cell_type": "markdown",
   "metadata": {},
   "source": [
    "## 1 Closures for gene expression\n",
    "The idea of a function that produces a function (closure) is a good way to think of gene expression. In a functional programming world, this idea is commonly used. In the example below, we take a chain which is a reader or wrapper around a genome (which is a numpy array) and we pass it to the symbol. The symbol at first is not expressed. Passing the genome expresses it and it can then be called."
   ]
  },
  {
   "cell_type": "markdown",
   "metadata": {},
   "source": [
    "A grammar of self expressing symbols is defined in the following way. Note we use decorators to hide the repetitive boilerplate of turning a choice into a symbol. We try to make this part of the code look as much like a grammar as possible."
   ]
  },
  {
   "cell_type": "code",
   "execution_count": null,
   "metadata": {
    "collapsed": false
   },
   "outputs": [],
   "source": [
    "from sparkge.symbols import *\n",
    "@terminal\n",
    "def var():return [\"X\"]\n",
    "\n",
    "@operator()\n",
    "def op(): return [add, sub, mul]\n",
    "\n",
    "def expr(genome=None, args = []): \n",
    "    choices = [op(expr,expr), var]\n",
    "    return as_expression(genome, choices, args)"
   ]
  },
  {
   "cell_type": "code",
   "execution_count": null,
   "metadata": {
    "collapsed": true
   },
   "outputs": [],
   "source": [
    "random_genome = chain()\n",
    "expressed_symbol = expr(random_genome)\n",
    "expressed_symbol(X=10)\n",
    "#or more concisely expr(genome)(X=10)"
   ]
  },
  {
   "cell_type": "code",
   "execution_count": 1,
   "metadata": {
    "collapsed": true
   },
   "outputs": [],
   "source": [
    "## Other Points\n",
    "# Use of nan and inf - nan when no terminal param supplied? nan for mapping errors in general\n",
    "#the paramter being supplied is the resposability of the caller - default could be 0 or nan\n",
    "#inf for bad scores"
   ]
  },
  {
   "cell_type": "code",
   "execution_count": null,
   "metadata": {
    "collapsed": true
   },
   "outputs": [],
   "source": []
  }
 ],
 "metadata": {
  "kernelspec": {
   "display_name": "Python 3",
   "language": "python",
   "name": "python3"
  },
  "language_info": {
   "codemirror_mode": {
    "name": "ipython",
    "version": 3
   },
   "file_extension": ".py",
   "mimetype": "text/x-python",
   "name": "python",
   "nbconvert_exporter": "python",
   "pygments_lexer": "ipython3",
   "version": "3.5.2"
  }
 },
 "nbformat": 4,
 "nbformat_minor": 0
}
