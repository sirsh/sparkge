{
 "cells": [
  {
   "cell_type": "code",
   "execution_count": null,
   "metadata": {
    "collapsed": true,
    "run_control": {
     "marked": true
    }
   },
   "outputs": [],
   "source": [
    "#work in progress - this assumes spark installed and does not point to sparkge folder\n",
    "import sparkge\n",
    "from sparkge.x.stores import aerospike_store\n",
    "from sparkge.x.fitness import regressor_fitness\n",
    "#grammar\n",
    "with context(store=x.as_store(),start_symbol=expr) as c: \n",
    "    c.run(eval_func=regressor_fitness(c.store.lazy_query(\"ASM_DATA\")) )"
   ]
  },
  {
   "cell_type": "code",
   "execution_count": null,
   "metadata": {
    "collapsed": true,
    "run_control": {
     "marked": false
    }
   },
   "outputs": [],
   "source": [
    "class store:\n",
    "    def __init__(self,options):\n",
    "        pass\n",
    "    \n",
    "    def update(self,matrix, options):\n",
    "        pass\n",
    "    \n",
    "    def broadcast(self):\n",
    "        pass\n",
    "    \n",
    "    def report(self):\n",
    "        pass\n",
    "    \n",
    "    def lazy_query(self,qry_str):\n",
    "        def _query():\n",
    "            pass\n",
    "        return _query\n",
    "    \n",
    "class options(dict):\n",
    "    def __init__(self):pass\n",
    "    \n",
    "class context:\n",
    "    def __init__(self,store_provider,start_symbol,options=None):\n",
    "        self.store = store_provider\n",
    "        self.options = options\n",
    "        self.start_symbol = start_symbol\n",
    "        self.sc = None# setup spark context in this context\n",
    "    \n",
    "    def __init__(self):\n",
    "        pass\n",
    "    def __enter__(self):\n",
    "        self.store.broadcast()\n",
    "    def __exit__(self):\n",
    "        self.store.report()        \n",
    "    def __iter__(self):\n",
    "        return iter(store) \n",
    "    def __getitem__(self,key):\n",
    "        return store[key]   \n",
    "    @property\n",
    "    def keys(self):\n",
    "        pass\n",
    " \n",
    "    def transcribe(self, genome, params = []):\n",
    "        phenotype = self.start_symbol(genome,params)\n",
    "        return accepting_ordered_params(phenotype,params)#think about who controls the param order\n",
    "    \n",
    "    def evolve(self,options):\n",
    "        self.options.mutator.mutate(self.store)\n",
    "        sel = self.options.selector.best_keys(self.store)\n",
    "        self.options.combiner.combine(sel, self.store)\n",
    "        \n",
    "    def run(self,eval_func):   \n",
    "        #transcribe returns function of a matrix and eval_func_prov takes such a thing\n",
    "        worker_fun = lambda key: eval_func(self.transcribe(self.cache[key]))\n",
    "        for gen in self.options.generations:  \n",
    "            results = self.sc.map(self.keys).reduce(lambda key: worker_fun(key)).collect()\n",
    "            self.store.update(results)\n",
    "            self.evolve()\n",
    "        \n",
    "def xnorm(Y,Y_dash):  pass\n",
    "\n",
    "def regressor_fitness(mat_query_func,options,norm=xnorm):\n",
    "    def _fitness(f_of_mat):\n",
    "        mat = mat_query_func()\n",
    "        X = mat[:,0:-1]\n",
    "        Y = mat[:,-1]\n",
    "        Y_dash = f_of_mat(X) \n",
    "        return norm(Y,Y_dash)\n",
    "    return _fitness\n",
    "\n",
    "with sparkge.context(store=x.as_store(),\n",
    "                     start_symbol=expr,#x.load_symbol(\"asm_reg.bnf\"),\n",
    "                     options={}) as c: \n",
    "    c.run( eval_func= regressor_fitness(store.lazy_query(\"ASM_DATA\")) )"
   ]
  },
  {
   "cell_type": "code",
   "execution_count": 1,
   "metadata": {
    "collapsed": false
   },
   "outputs": [],
   "source": [
    "from functools import wraps\n",
    "from operator import *\n",
    "from math import *\n",
    "import random\n",
    "\n",
    "#make mapping exception type here with some info possibly\n",
    "\n",
    "#add to evo\n",
    "class chain:\n",
    "    \n",
    "    def __init__(self,l=None, max_wraps=3, default_length=30): \n",
    "        if l is None: l = np.random.randint(0,10,default_length)\n",
    "        l = np.concatenate([l[~np.isnan(l)].astype(int) for i in range(max_wraps)])\n",
    "        self._l, self.length = l,len(l)\n",
    "        self._index = 0\n",
    "     \n",
    "    def __getitem__(self, key):\n",
    "        if key >= self.length: return None\n",
    "        return self._l[ key ]\n",
    "    \n",
    "    def _next(self): \n",
    "        if self._l is None: return random.randint(0,10)\n",
    "        if self._index < self.length: \n",
    "            self._index += 1\n",
    "            return self[self._index-1]\n",
    "        return None\n",
    "        \n",
    "    def choose(self, choices):\n",
    "        cn = self._next()\n",
    "        if cn ==None: raise MappingException(\"mapping exception\")\n",
    "        return choices[cn % len(choices)] if len(choices) > 1 else choices[0]\n",
    "\n",
    "#todo chain.choose(list) -> returns None when chain is empty and mapping should be terminated\n",
    "#info = [], F = var(chain(),info) -> call F(X=, Y=)\n",
    "def terminal(original_function=None, is_constant=False):\n",
    "    def _decorate(function):      \n",
    "        choices = function()  \n",
    "        def _terminal(genome,info=None):\n",
    "            v = genome.choose(choices)\n",
    "            def __terminal(**kwargs):\n",
    "                if is_constant==False and info != None and v not in info:info.append(v)\n",
    "                return kwargs[v]\n",
    "            return __terminal\n",
    "        return _terminal\n",
    "    if original_function: return _decorate(original_function)\n",
    "    return _decorate\n",
    "\n",
    "#B = bop(exp,exp),B=B(c),B(X=1)\n",
    "def operator(original_function=None):\n",
    "    def _decorate(function):      \n",
    "        choices = function()  \n",
    "        def _op(*exp_args):          #f(exp,exp)->operator of cardinality\n",
    "            def __op(genome,info=None):         #f(chain)->expression \n",
    "                args = [f(genome,info) for f in exp_args] \n",
    "                op = genome.choose(choices)\n",
    "                def ___op(**kwargs): #f(X,a,b,c,d)\n",
    "                    invoked = [f(**kwargs) for f in args]  \n",
    "                    return op(*invoked)\n",
    "                return ___op\n",
    "            return __op\n",
    "        return _op\n",
    "    if original_function: return _decorate(original_function)\n",
    "    return _decorate\n",
    "\n",
    "def accepting_ordered_params(f,params):\n",
    "    def _f(*args):\n",
    "        ordered_args = dict(zip(params,args))\n",
    "        return f(**ordered_args)\n",
    "    return _f      \n",
    "\n",
    "class MappingException(Exception):\n",
    "    pass\n",
    "\n",
    "# def expr(genome=None, args = []):\n",
    "#     try: \n",
    "#         f = genome.choose([op(expr,expr), var])\n",
    "#         expressed = f(genome,args)\n",
    "#         def _f(**kwargs): return expressed(**kwargs)\n",
    "#         return _f\n",
    "#     except MappingException as mex: \n",
    "#         def _f(**kwargs): return np.nan\n",
    "#         return _f\n",
    "\n",
    "#abstract this faff        \n",
    "def as_expression(genome, choices, args=[]):\n",
    "    try: \n",
    "        f  = genome.choose(choices)\n",
    "        expressed = f(genome,choices)\n",
    "        def _f(**kwargs): return expressed(**kwargs)\n",
    "        return _f\n",
    "    except MappingException as mex: \n",
    "        def _f(**kwargs): return np.nan\n",
    "        return _f\n",
    "    "
   ]
  },
  {
   "cell_type": "code",
   "execution_count": 15,
   "metadata": {
    "collapsed": false
   },
   "outputs": [],
   "source": [
    "@terminal\n",
    "def var():return [\"X\"]\n",
    "\n",
    "@operator()\n",
    "def op(): return [add, sub, mul]\n",
    "\n",
    "def expr(genome=None, args = []): \n",
    "    choices = [op(expr,expr), var]\n",
    "    return as_expression(genome, choices,args)\n",
    "\n"
   ]
  },
  {
   "cell_type": "code",
   "execution_count": 16,
   "metadata": {
    "collapsed": false
   },
   "outputs": [
    {
     "data": {
      "text/plain": [
       "5"
      ]
     },
     "execution_count": 16,
     "metadata": {},
     "output_type": "execute_result"
    }
   ],
   "source": [
    "import numpy as np\n",
    "c = chain()\n",
    "E = expr(c)\n",
    "E(X=5,Y=10)"
   ]
  },
  {
   "cell_type": "code",
   "execution_count": null,
   "metadata": {
    "collapsed": false
   },
   "outputs": [],
   "source": [
    "accepting_ordered_params(E,args)(5)"
   ]
  },
  {
   "cell_type": "code",
   "execution_count": null,
   "metadata": {
    "collapsed": false
   },
   "outputs": [],
   "source": [
    "def _get_dict_(F) : return dict(zip(F.__code__.co_freevars, (c.cell_contents for c in F.__closure__)))\n",
    "\n",
    "def _repr_(f):\n",
    "    d = _get_dict_(f)\n",
    "    if \"expressed\" in list(d.keys()):  return \"{}\".format(_repr_(d[\"expressed\"]))\n",
    "    elif \"op\" in list(d.keys()):\n",
    "        op = d[\"op\"].__name__\n",
    "        if op == \"sub\":  return \"({}-{})\".format(_repr_(d[\"args\"][0]),  _repr_(d[\"args\"][1]))\n",
    "        if op == \"add\":  return \"({}+{})\".format(_repr_(d[\"args\"][0]),  _repr_(d[\"args\"][1]))\n",
    "        if op == \"mul\":  return \"({}*{})\".format(_repr_(d[\"args\"][0]),  _repr_(d[\"args\"][1]))\n",
    "        else:  return \"({}/{})\".format(_repr_(d[\"args\"][0]),  _repr_(d[\"args\"][1]))\n",
    "    if \"f\" in d: return _repr_(d[\"f\"])\n",
    "    else:   return d[\"v\"]"
   ]
  },
  {
   "cell_type": "code",
   "execution_count": null,
   "metadata": {
    "collapsed": false
   },
   "outputs": [],
   "source": [
    "from sympy import sympify\n",
    "\n",
    "print(_repr_(E))\n",
    "sympify(_repr_(E))"
   ]
  },
  {
   "cell_type": "markdown",
   "metadata": {
    "collapsed": true
   },
   "source": [
    "# Populace Matrices"
   ]
  },
  {
   "cell_type": "code",
   "execution_count": null,
   "metadata": {
    "collapsed": false
   },
   "outputs": [],
   "source": [
    "#strategy trait\n",
    "\n",
    "#this is a lazy mutation matrix - we do not try to find distinct mutation sites because it is inefficient\n",
    "#sometimes it might be important to be precise about mutation rate but here the rate is a proxy for the true rate\n",
    "#The cut matrix can be chosen more cleverly using a distribution centered around the mean individual length\n",
    "%matplotlib inline\n",
    "import numpy as np\n",
    "np.seterr(divide='ignore', invalid='ignore') #be careful\n",
    "import pandas as pd\n",
    "GENERATIONS = 500\n",
    "CODON_MAX  = 100\n",
    "\n",
    "#put these as strategy parameters \n",
    "MIN_L, MAX_L, N = 10,100,1000\n",
    "MRATE = 0.01\n",
    "RATE = 0.51\n",
    "\n",
    "#evo helpers global\n",
    "lpad = lambda v,n : np.pad(v.astype(float), (n-len(v),0), 'constant', constant_values=np.NAN)\n",
    "rpad = lambda v,n : np.pad(v.astype(float), (0,n-len(v)), 'constant', constant_values=np.NAN)\n",
    "random_individual = lambda l : np.random.randint(0,CODON_MAX, size=l)\n",
    "random_padded_individual = lambda l,L : rpad(random_individual(l),L)\n",
    "lengths = lambda p : np.sum(~np.isnan(p),axis=1)\n",
    "\n",
    "#promote to functions\n",
    "generate_from_lengths = lambda ls : np.stack( [random_padded_individual(l,MAX_L) for l in ls])\n",
    "cut_matrix = lambda n :np.stack([rpad(np.ones(l),MAX_L) for l in __cuts__(n)])\n",
    "\n",
    "def __cuts__(n,lamda=MAX_L/2):\n",
    "    \"\"\"normally distributed about half the average length\"\"\"\n",
    "    return np.abs(np.random.normal(lamda/2,np.sqrt(MAX_L/2),n).astype(int))\n",
    "\n",
    "def init():\n",
    "    individual_lengths = np.random.randint(MIN_L, MAX_L, size=N)\n",
    "    individual_fitnesses = np.full(N,np.nan)\n",
    "    individual_genotypes = generate_from_lengths(individual_lengths)\n",
    "    return individual_lengths, individual_fitnesses, individual_genotypes\n",
    "\n",
    "def _x(a,b):\n",
    "    c = np.concatenate([a,b],axis=1)\n",
    "    def f(row):\n",
    "        r = row[~np.isnan(row)]\n",
    "        return rpad(r, MAX_L) if len(r) < MAX_L else r[:MAX_L]\n",
    "    return np.apply_along_axis(f, 1, c)\n",
    "    \n",
    "def X(pool):\n",
    "    chromosomes = pool * cut_matrix(len(pool))\n",
    "    split = int(len(pool) / 2) # it should be known that this is div by 2\n",
    "    return np.concatenate([_x(chromosomes[split:], chromosomes[:split]),\n",
    "                          _x(chromosomes[:split], chromosomes[split:])])\n",
    "\n",
    "def selection(individuals):\n",
    "    K = int(RATE*N) \n",
    "    mates = 2*int(N-K)\n",
    "    replacement = N-mates\n",
    "    scores = individuals[:,1] #1 is the index of scores on the ind matrix\n",
    "    scores = scores - scores.max() #minimise\n",
    "    scores = scores / scores.sum() #normalize\n",
    "    selected = np.random.choice(range(N),mates+replacement,p=scores) \n",
    "    #maybe take some random new ones i.e. freaks from nowhere\n",
    "    return selected[:mates], selected[mates:]\n",
    "\n",
    "def mutations(rate):\n",
    "    mar = np.zeros(N*MAX_L)\n",
    "    idx = np.random.choice(range(N*MAX_L),int(N*MAX_L*rate),replace=False) #np.random.randint(N*MAX_L, size=int(N*MAX_L*MRATE))\n",
    "    mar[idx]= np.random.randint(CODON_MAX, size=len(idx))\n",
    "    return mar.reshape((N,MAX_L))\n",
    "\n",
    "#test - expect normal distribution around lengths - end of story - tune for this\n",
    "#test-select for large genotypes or sum might do some-ish and allow mut\n",
    "#two criteria - normal distribution around \"good\" plus diversity in the geontypes\n",
    "def evaluate(genotypes): return np.random.uniform(10,100, len(genotypes)) # \n",
    "def evaluate(genotypes): return lengths(genotypes) * 2 \n",
    "def evaluate(genotypes): return  np.apply_along_axis(lambda row : len(row[row%2!=0]), 1,  individual_genotypes) #select for?\n",
    "#convention - eval returns a distance from perfect - we are trying to minimise"
   ]
  },
  {
   "cell_type": "code",
   "execution_count": null,
   "metadata": {
    "collapsed": true
   },
   "outputs": [],
   "source": [
    "#real fitness - select for something that can generate X^4 + x^3 + x^ 2 + x^1\n"
   ]
  },
  {
   "cell_type": "code",
   "execution_count": null,
   "metadata": {
    "collapsed": false
   },
   "outputs": [],
   "source": [
    "def _evaluate(population, target_function= lambda x : 2*x*x- x**3+x**4, sample_x=list(range(4,7)), return_all=False):\n",
    "    #move thes out?\n",
    "    def __express_symbol__(x):\n",
    "        def _f_(row): return expr(chain(row))(X=x)\n",
    "        return _f_\n",
    "    \n",
    "    def __print_symbol__(row):\n",
    "        try: return repr(sympify(_repr_(expr(chain(row)))))\n",
    "        except: return None\n",
    "    \n",
    "    df_res = pd.DataFrame(index=range(len(population)))\n",
    "    df_res[\"type\"] = \"result\"\n",
    "    df_tar = pd.DataFrame(index=range(len(population)))\n",
    "    df_tar[\"type\"] = \"target\"\n",
    "    \n",
    "    for x in sample_x: df_res[str(x)] = np.apply_along_axis(__express_symbol__(float(x)), 1, population)\n",
    "    for x in sample_x: df_tar[str(x)] = target_function(x)\n",
    "        \n",
    "    df = pd.concat([df_res,df_tar])\n",
    "    df= df.pivot(df.index, \"type\")\n",
    "    df.columns = df.columns.swaplevel(0, 1)\n",
    "    df.sortlevel(0, axis=1, inplace=True)\n",
    "    df[\"error\"] = np.abs(df[\"result\"].fillna(np.inf) - df[\"target\"]).sum(axis=1)\n",
    "    #df[\"repr\"] = np.apply_along_axis(__print_symbol__, 1, individual_genotypes)\n",
    "    if return_all: return df\n",
    "    return df[\"error\"].values\n"
   ]
  },
  {
   "cell_type": "code",
   "execution_count": null,
   "metadata": {
    "collapsed": false
   },
   "outputs": [],
   "source": [
    "individual_lengths, individual_fitnesses, individual_genotypes = init()\n",
    "#individual_genotypes"
   ]
  },
  {
   "cell_type": "markdown",
   "metadata": {},
   "source": [
    "# Usage"
   ]
  },
  {
   "cell_type": "code",
   "execution_count": null,
   "metadata": {
    "collapsed": false
   },
   "outputs": [],
   "source": [
    "_lengths = []\n",
    "min_error = []\n",
    "goods = []\n",
    "for i, generation in enumerate(range(GENERATIONS)): \n",
    "    individual_fitnesses = _evaluate(individual_genotypes) #optimize\n",
    "    individuals = np.stack([lengths(individual_genotypes),individual_fitnesses],axis=1)\n",
    "    \n",
    "    if individual_fitnesses.min() ==0: \n",
    "        examplar = individual_genotypes[np.argmin(individual_fitnesses)]\n",
    "        print(repr(sympify(_repr_(expr(chain(examplar))))), \"found\")\n",
    "        goods.append(examplar)\n",
    "        \n",
    "    pool_index,replacement_index = selection(individuals)\n",
    "    individual_genotypes = np.concatenate([individual_genotypes[replacement_index], \n",
    "                                         X(individual_genotypes[pool_index])]) + mutations(0.01)\n",
    "    \n",
    "    _lengths.append(lengths(individual_genotypes).mean())\n",
    "    min_error.append(individual_fitnesses.min())\n",
    "    \n",
    "pd.DataFrame(_lengths).hist()\n",
    "#geontype distribution around the \"fitness selectors\"\n",
    "individual_genotypes"
   ]
  },
  {
   "cell_type": "code",
   "execution_count": null,
   "metadata": {
    "collapsed": false
   },
   "outputs": [],
   "source": [
    "pd.DataFrame(min_error).plot(figsize=(20,10))"
   ]
  },
  {
   "cell_type": "code",
   "execution_count": null,
   "metadata": {
    "collapsed": false
   },
   "outputs": [],
   "source": [
    "\n",
    "repr(sympify(_repr_(expr(chain(goods[1])))))"
   ]
  },
  {
   "cell_type": "code",
   "execution_count": null,
   "metadata": {
    "collapsed": false
   },
   "outputs": [],
   "source": [
    "repr(sympify(_repr_(expr(chain(goods[0])))))"
   ]
  },
  {
   "cell_type": "code",
   "execution_count": null,
   "metadata": {
    "collapsed": false
   },
   "outputs": [],
   "source": [
    "#_evaluate(individual_genotypes,return_all=True).sort_values(\"error\")"
   ]
  },
  {
   "cell_type": "code",
   "execution_count": null,
   "metadata": {
    "collapsed": false
   },
   "outputs": [],
   "source": [
    "#if selecting for a we can get the ratio\n",
    "a = len(individual_genotypes[(individual_genotypes % 2 ==0) & (~np.isnan(individual_genotypes))])\n",
    "b= len(individual_genotypes[(individual_genotypes % 2 != 0) & (~np.isnan(individual_genotypes))])\n",
    "b/(a+b) #are odd"
   ]
  },
  {
   "cell_type": "code",
   "execution_count": null,
   "metadata": {
    "collapsed": false
   },
   "outputs": [],
   "source": [
    "#codon distribution\n",
    "pd.DataFrame(individual_genotypes.reshape(N*MAX_L)).hist(bins=100)"
   ]
  },
  {
   "cell_type": "code",
   "execution_count": null,
   "metadata": {
    "collapsed": false
   },
   "outputs": [],
   "source": [
    "pd.DataFrame(individual_genotypes)"
   ]
  },
  {
   "cell_type": "code",
   "execution_count": null,
   "metadata": {
    "collapsed": false
   },
   "outputs": [],
   "source": [
    "# Test mappings\n",
    "individual_genotypes"
   ]
  },
  {
   "cell_type": "code",
   "execution_count": null,
   "metadata": {
    "collapsed": false
   },
   "outputs": [],
   "source": [
    "args = []\n",
    "expr(chain(individual_genotypes[1]))(X=10)"
   ]
  },
  {
   "cell_type": "code",
   "execution_count": null,
   "metadata": {
    "collapsed": false
   },
   "outputs": [],
   "source": [
    "results = evaluate(individual_genotypes).sort_values(\"error\")\n",
    "# results = results.style.set_properties(subset=['repr'], **{'width': '300px'})\n",
    "# pd.set_option('display.max_colwidth', -1)\n",
    "results"
   ]
  },
  {
   "cell_type": "code",
   "execution_count": null,
   "metadata": {
    "collapsed": false
   },
   "outputs": [],
   "source": []
  },
  {
   "cell_type": "code",
   "execution_count": null,
   "metadata": {
    "collapsed": true
   },
   "outputs": [],
   "source": []
  }
 ],
 "metadata": {
  "kernelspec": {
   "display_name": "Python 3",
   "language": "python",
   "name": "python3"
  },
  "language_info": {
   "codemirror_mode": {
    "name": "ipython",
    "version": 3
   },
   "file_extension": ".py",
   "mimetype": "text/x-python",
   "name": "python",
   "nbconvert_exporter": "python",
   "pygments_lexer": "ipython3",
   "version": "3.5.2"
  }
 },
 "nbformat": 4,
 "nbformat_minor": 0
}
