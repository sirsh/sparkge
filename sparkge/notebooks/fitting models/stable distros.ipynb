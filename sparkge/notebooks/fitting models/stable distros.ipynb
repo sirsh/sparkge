{
 "cells": [
  {
   "cell_type": "code",
   "execution_count": null,
   "metadata": {
    "collapsed": true
   },
   "outputs": [],
   "source": [
    "import random\n",
    "import numpy as np\n",
    "from scipy.optimize import curve_fit\n",
    "import matplotlib.pyplot as plt\n",
    "%matplotlib inline\n",
    "\n",
    "#todo cauchy and levy\n",
    "def gauss(x, *p):\n",
    "    a, b, c, d = p\n",
    "    y = a*np.exp(-np.power((x - b), 2.)/(2. * c**2.)) + d\n",
    "    return y\n",
    "\n",
    "p_initial = [1.0, 0.0, 0.1, 0.0]\n",
    "p_perturbed = [i + 0.5*(random.random()*2 - 1.) for i in p_initial]\n",
    "\n",
    "N = 100 # Number of data points.\n",
    "x = np.linspace(-1, 1, N)\n",
    "y = np.array([gauss(i, *p_perturbed) + 0.1*(random.random()*2. - 1.) for i in x])\n",
    "e = np.array([random.random()*0.1 for _ in y])\n",
    "\n",
    "popt, pcov = curve_fit(gauss, x, y, p0=p_initial, sigma=e)\n",
    "y_fit = gauss(x, *popt)\n",
    "\n",
    "fig, ax = plt.subplots()\n",
    "ax.errorbar(x,y,e)\n",
    "ax.plot(x, y_fit, color = 'red')\n",
    "ax.set_xlabel(r'$x$')\n",
    "ax.set_ylabel(r'$f(x)$')\n",
    "print(goodness_of_fit(y,y_fit))"
   ]
  }
 ],
 "metadata": {
  "kernelspec": {
   "display_name": "Python 3",
   "language": "python",
   "name": "python3"
  },
  "language_info": {
   "codemirror_mode": {
    "name": "ipython",
    "version": 3
   },
   "file_extension": ".py",
   "mimetype": "text/x-python",
   "name": "python",
   "nbconvert_exporter": "python",
   "pygments_lexer": "ipython3",
   "version": "3.5.2"
  }
 },
 "nbformat": 4,
 "nbformat_minor": 0
}
