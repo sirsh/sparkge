{
 "cells": [
  {
   "cell_type": "code",
   "execution_count": null,
   "metadata": {
    "collapsed": false
   },
   "outputs": [],
   "source": [
    "import pandas as pd\n",
    "import numpy as np\n",
    "import sparkge as sg\n",
    "from sparkge import context as ctx\n",
    "from sparkge import evolution as evo\n",
    "from sparkge.evolution import length_of\n",
    "from sparkge.providers.fitness import *\n",
    "import warnings\n",
    "%matplotlib inline\n",
    "res = np.seterr(divide='ignore', invalid='ignore') #be careful\n",
    "warnings.filterwarnings(\"ignore\")\n",
    "#set recusiion limit sparge.configure()"
   ]
  },
  {
   "cell_type": "code",
   "execution_count": 118,
   "metadata": {
    "ExecuteTime": {
     "end_time": "2017-10-10T21:32:07.843958Z",
     "start_time": "2017-10-10T21:32:07.783560Z"
    },
    "collapsed": false
   },
   "outputs": [],
   "source": []
  },
  {
   "cell_type": "code",
   "execution_count": 119,
   "metadata": {
    "ExecuteTime": {
     "end_time": "2017-10-10T21:32:09.636661Z",
     "start_time": "2017-10-10T21:32:08.519018Z"
    },
    "collapsed": false
   },
   "outputs": [],
   "source": [
    "arr = np.ones((100,20), np.int)\n",
    "def f (data) : return np.random.randint(0,100,len(data)) \n",
    "sc =  sparkge_context() \n",
    "res = sc.apply_function(arr, f)"
   ]
  },
  {
   "cell_type": "code",
   "execution_count": 120,
   "metadata": {
    "ExecuteTime": {
     "end_time": "2017-10-10T21:32:12.602980Z",
     "start_time": "2017-10-10T21:32:12.596127Z"
    },
    "collapsed": false
   },
   "outputs": [
    {
     "data": {
      "text/plain": [
       "array([[ 0, 10],\n",
       "       [ 1, 48],\n",
       "       [ 2, 81],\n",
       "       [ 3, 46],\n",
       "       [ 4,  9],\n",
       "       [ 5, 47],\n",
       "       [ 6, 28],\n",
       "       [ 7, 50],\n",
       "       [ 8,  6],\n",
       "       [ 9, 78],\n",
       "       [10, 79],\n",
       "       [11, 55],\n",
       "       [12, 62],\n",
       "       [13, 66],\n",
       "       [14, 76],\n",
       "       [15, 85],\n",
       "       [16, 10],\n",
       "       [17, 58],\n",
       "       [18, 17],\n",
       "       [19, 96],\n",
       "       [20, 55],\n",
       "       [21, 85],\n",
       "       [22, 89],\n",
       "       [23, 30],\n",
       "       [24, 71],\n",
       "       [25, 41],\n",
       "       [26, 10],\n",
       "       [27, 45],\n",
       "       [28, 51],\n",
       "       [29, 20],\n",
       "       [30, 95],\n",
       "       [31, 17],\n",
       "       [32, 67],\n",
       "       [33, 12],\n",
       "       [34, 71],\n",
       "       [35,  3],\n",
       "       [36, 35],\n",
       "       [37, 68],\n",
       "       [38, 32],\n",
       "       [39,  3],\n",
       "       [40, 48],\n",
       "       [41, 60],\n",
       "       [42, 16],\n",
       "       [43, 39],\n",
       "       [44, 76],\n",
       "       [45, 33],\n",
       "       [46, 77],\n",
       "       [47, 73],\n",
       "       [48, 26],\n",
       "       [49, 46],\n",
       "       [50, 10],\n",
       "       [51, 48],\n",
       "       [52, 81],\n",
       "       [53, 46],\n",
       "       [54,  9],\n",
       "       [55, 47],\n",
       "       [56, 28],\n",
       "       [57, 50],\n",
       "       [58,  6],\n",
       "       [59, 78],\n",
       "       [60, 79],\n",
       "       [61, 55],\n",
       "       [62, 62],\n",
       "       [63, 66],\n",
       "       [64, 76],\n",
       "       [65, 85],\n",
       "       [66, 10],\n",
       "       [67, 58],\n",
       "       [68, 17],\n",
       "       [69, 96],\n",
       "       [70, 55],\n",
       "       [71, 85],\n",
       "       [72, 89],\n",
       "       [73, 30],\n",
       "       [74, 71],\n",
       "       [75, 41],\n",
       "       [76, 10],\n",
       "       [77, 45],\n",
       "       [78, 51],\n",
       "       [79, 20],\n",
       "       [80, 80],\n",
       "       [81,  9],\n",
       "       [82, 24],\n",
       "       [83, 57],\n",
       "       [84,  4],\n",
       "       [85, 63],\n",
       "       [86, 87],\n",
       "       [87, 18],\n",
       "       [88, 28],\n",
       "       [89, 86],\n",
       "       [90, 48],\n",
       "       [91, 60],\n",
       "       [92, 16],\n",
       "       [93, 39],\n",
       "       [94, 76],\n",
       "       [95, 33],\n",
       "       [96, 77],\n",
       "       [97, 73],\n",
       "       [98, 26],\n",
       "       [99, 46]])"
      ]
     },
     "execution_count": 120,
     "metadata": {},
     "output_type": "execute_result"
    }
   ],
   "source": [
    "res"
   ]
  },
  {
   "cell_type": "markdown",
   "metadata": {},
   "source": [
    "This notebook describes basic useage of sparkge. See the concepts notebook for a better understanding of the patterns used"
   ]
  },
  {
   "cell_type": "markdown",
   "metadata": {},
   "source": [
    "# Grammar"
   ]
  },
  {
   "cell_type": "code",
   "execution_count": null,
   "metadata": {
    "collapsed": false
   },
   "outputs": [],
   "source": [
    "from sparkge.symbols import *\n",
    "\n",
    "def squared(x): return np.power(x,2)\n",
    "def cubed (x): return np.power(x,3)\n",
    "\n",
    "@terminal\n",
    "def var():\n",
    "    return [\"X\"]\n",
    "    #return [\"X\", \"A\", \"B\", \"C\"]\n",
    "\n",
    "@terminal\n",
    "def param():\n",
    "    #return [\"X\"]\n",
    "    return [ \"A\", \"B\"]\n",
    "\n",
    "@terminal(is_constant=True)\n",
    "def const():return [ 2,3,4,5]#, np.pi\n",
    "\n",
    "@operator()\n",
    "def uop(): return [np.exp, np.log]#np.sin, np.cos , np.log, np.sin,\n",
    "\n",
    "@operator()\n",
    "def op(): return [add, sub, mul, truediv]#truediv\n",
    "\n",
    "@operator()\n",
    "def power(): return [np.power]\n",
    "\n",
    "def expr(genome=None, args = []):  \n",
    "    return as_expression(genome, [ op(expr,expr), power(expr,param) ,var, param])\n",
    "    #return as_expression(genome,  [op(expr,expr),op(expr,expr),  var])"
   ]
  },
  {
   "cell_type": "markdown",
   "metadata": {},
   "source": [
    "# Sample Expressions"
   ]
  },
  {
   "cell_type": "code",
   "execution_count": null,
   "metadata": {
    "collapsed": false
   },
   "outputs": [],
   "source": [
    "power_sample = np.array([1,0,2])\n",
    "power_law_sample = np.array([0,2,3,1, 1, 1,2])\n",
    "#sample using a random genome - re-run cell to see other instances\n",
    "f= expr(evo.chain(l=power_law_sample,max_wraps=2))#np.array([0,0,3,3])\n",
    "print(f(X=3,A=4,B=6,C=5))\n",
    "from sparkge.symbols import _repr_\n",
    "print(_repr_(f))\n",
    "S= display(f)\n",
    "S"
   ]
  },
  {
   "cell_type": "markdown",
   "metadata": {},
   "source": [
    "## Get some sample data"
   ]
  },
  {
   "cell_type": "code",
   "execution_count": null,
   "metadata": {
    "collapsed": false
   },
   "outputs": [],
   "source": [
    "df = pd.read_csv(\"./sparkge/data/asm_sample_data_duration.csv\")\n",
    "df.L = df.L.astype(int)\n",
    "M = df[[\"L\", \"M1\"]].set_index(\"L\")\n",
    "SAMPLE = M.sample(5000).sort_index()"
   ]
  },
  {
   "cell_type": "markdown",
   "metadata": {},
   "source": [
    "# Fit the data to sample expression"
   ]
  },
  {
   "cell_type": "code",
   "execution_count": null,
   "metadata": {
    "collapsed": false
   },
   "outputs": [],
   "source": [
    "print(display(f))    \n",
    "_f = accepting_ordered_params(f) #see comments in fnuction accepting_ordered_params\n",
    "est = curve_fit(_f, SAMPLE, estimate=[[0.1,2,1,]], display=True)\n",
    "print(\"Est params\", est[0])\n",
    "print(\"GoF\", goodness_of_fit(_f,SAMPLE, est))"
   ]
  },
  {
   "cell_type": "markdown",
   "metadata": {},
   "source": [
    "when fitting functions with scipy the convention is to pass the variables parameters in an ordered list f(X, params). To respect that we try to unravel our strict function of f(X=,A=,B=) into something that takes an ordered list. It is important of course to make sure that we map the right ordinal to the right key"
   ]
  },
  {
   "cell_type": "markdown",
   "metadata": {},
   "source": [
    "# Strategy"
   ]
  },
  {
   "cell_type": "code",
   "execution_count": null,
   "metadata": {
    "collapsed": false
   },
   "outputs": [],
   "source": [
    "s = evo.strategy(pop_size=100, genome_size=100, srate=0.52, mrate=0.01)"
   ]
  },
  {
   "cell_type": "markdown",
   "metadata": {},
   "source": [
    "# Evolve a test function"
   ]
  },
  {
   "cell_type": "code",
   "execution_count": null,
   "metadata": {
    "collapsed": false
   },
   "outputs": [],
   "source": [
    "lengths, fitnesses, genes = s.init()\n",
    "for generation in range(1000): \n",
    "    fitnesses = sg.symbols._evaluate(genes,expr)#default test function\n",
    "    meta = np.stack([length_of(genes),fitnesses],axis=1)\n",
    "    genes = s.select_and_mutate(meta,genes)\n",
    "    sg.store.update(meta,genes)"
   ]
  },
  {
   "cell_type": "markdown",
   "metadata": {},
   "source": [
    "# Curve fitting data\n"
   ]
  },
  {
   "cell_type": "code",
   "execution_count": null,
   "metadata": {
    "collapsed": false
   },
   "outputs": [],
   "source": [
    "lengths, fitnesses, genes = s.init()\n",
    "for generation in range(1000):   \n",
    "    fitnesses = sg.symbols._evaluate_against_data(genes,expr,SAMPLE,p0=[[0.1, 2, 1, 1]]) \n",
    "    meta = np.stack([length_of(genes),fitnesses],axis=1)\n",
    "    sg.store.update(meta,genes)\n",
    "    genes = s.select_and_mutate(meta,genes)"
   ]
  },
  {
   "cell_type": "markdown",
   "metadata": {
    "collapsed": true
   },
   "source": [
    "# Spark"
   ]
  },
  {
   "cell_type": "code",
   "execution_count": null,
   "metadata": {
    "collapsed": true
   },
   "outputs": [],
   "source": [
    "#get a function that broadcasts the stuff and then gives back a function that can be sent to workers\n",
    "def par_eval(pop):\n",
    "    #ctx.sc\n",
    "    #organise ids into mini mbatches and then remotely load data and eval each\n",
    "    pass\n",
    "\n",
    "lengths, fitnesses, genes = s.init()\n",
    "for generation in range(1000):   \n",
    "    fitnesses = par_eval(genes,expr) \n",
    "    meta = np.stack([length_of(genes),fitnesses],axis=1)\n",
    "    store.update(meta,genes)\n",
    "    genes = s.select_and_mutate(meta,genes)"
   ]
  }
 ],
 "metadata": {
  "anaconda-cloud": {},
  "kernelspec": {
   "display_name": "Python [default]",
   "language": "python",
   "name": "python3"
  },
  "language_info": {
   "codemirror_mode": {
    "name": "ipython",
    "version": 3
   },
   "file_extension": ".py",
   "mimetype": "text/x-python",
   "name": "python",
   "nbconvert_exporter": "python",
   "pygments_lexer": "ipython3",
   "version": "3.5.2"
  }
 },
 "nbformat": 4,
 "nbformat_minor": 0
}
