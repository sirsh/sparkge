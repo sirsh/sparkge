{
 "cells": [
  {
   "cell_type": "code",
   "execution_count": null,
   "metadata": {
    "collapsed": false
   },
   "outputs": [],
   "source": [
    "import pandas as pd\n",
    "import numpy as np\n",
    "import sparkge as sg\n",
    "from sparkge import evolution as evo\n",
    "from sparkge.evolution import length_of\n",
    "from sparkge.providers.fitness import *\n",
    "import warnings\n",
    "%matplotlib inline\n",
    "res = np.seterr(divide='ignore', invalid='ignore') #be careful\n",
    "warnings.filterwarnings(\"ignore\")\n",
    "#set recusiion limit sparge.configure()"
   ]
  },
  {
   "cell_type": "markdown",
   "metadata": {},
   "source": [
    "This notebook describes basic useage of sparkge. See the concepts notebook for a better understanding of the patterns used"
   ]
  },
  {
   "cell_type": "markdown",
   "metadata": {},
   "source": [
    "# Grammar"
   ]
  },
  {
   "cell_type": "code",
   "execution_count": null,
   "metadata": {
    "collapsed": false
   },
   "outputs": [],
   "source": [
    "from sparkge.symbols import *\n",
    "\n",
    "def squared(x): return np.power(x,2)\n",
    "def cubed (x): return np.power(x,3)\n",
    "\n",
    "@terminal\n",
    "def var():\n",
    "    return [\"X\"]\n",
    "    #return [\"X\", \"A\", \"B\", \"C\"]\n",
    "\n",
    "@terminal\n",
    "def param():\n",
    "    #return [\"X\"]\n",
    "    return [ \"A\", \"B\"]\n",
    "\n",
    "@terminal(is_constant=True)\n",
    "def const():return [ 2,3,4,5]#, np.pi\n",
    "\n",
    "@operator()\n",
    "def uop(): return [np.exp, np.log]#np.sin, np.cos , np.log, np.sin,\n",
    "\n",
    "@operator()\n",
    "def op(): return [add, sub, mul, truediv]#truediv\n",
    "\n",
    "@operator()\n",
    "def power(): return [np.power]\n",
    "\n",
    "def expr(genome=None, args = []):  \n",
    "    return as_expression(genome, [ op(expr,expr), power(expr,param) ,var, param])\n",
    "    #return as_expression(genome,  [op(expr,expr),op(expr,expr),  var])"
   ]
  },
  {
   "cell_type": "markdown",
   "metadata": {},
   "source": [
    "# Sample Expressions"
   ]
  },
  {
   "cell_type": "code",
   "execution_count": null,
   "metadata": {
    "collapsed": false
   },
   "outputs": [],
   "source": [
    "power_sample = np.array([1,0,2])\n",
    "power_law_sample = np.array([0,2,3,1, 1, 1,2])\n",
    "#sample using a random genome - re-run cell to see other instances\n",
    "f= expr(evo.chain(l=power_law_sample,max_wraps=2))#np.array([0,0,3,3])\n",
    "print(f(X=3,A=4,B=6,C=5))\n",
    "from sparkge.symbols import _repr_\n",
    "print(_repr_(f))\n",
    "S= display(f)\n",
    "S"
   ]
  },
  {
   "cell_type": "markdown",
   "metadata": {},
   "source": [
    "## Get some sample data"
   ]
  },
  {
   "cell_type": "code",
   "execution_count": 14,
   "metadata": {
    "collapsed": false
   },
   "outputs": [
    {
     "data": {
      "text/html": [
       "<div>\n",
       "<style>\n",
       "    .dataframe thead tr:only-child th {\n",
       "        text-align: right;\n",
       "    }\n",
       "\n",
       "    .dataframe thead th {\n",
       "        text-align: left;\n",
       "    }\n",
       "\n",
       "    .dataframe tbody tr th {\n",
       "        vertical-align: top;\n",
       "    }\n",
       "</style>\n",
       "<table border=\"1\" class=\"dataframe\">\n",
       "  <thead>\n",
       "    <tr style=\"text-align: right;\">\n",
       "      <th></th>\n",
       "      <th>M1</th>\n",
       "    </tr>\n",
       "    <tr>\n",
       "      <th>L</th>\n",
       "      <th></th>\n",
       "    </tr>\n",
       "  </thead>\n",
       "  <tbody>\n",
       "    <tr>\n",
       "      <th>125</th>\n",
       "      <td>34.378366</td>\n",
       "    </tr>\n",
       "    <tr>\n",
       "      <th>125</th>\n",
       "      <td>34.414432</td>\n",
       "    </tr>\n",
       "    <tr>\n",
       "      <th>125</th>\n",
       "      <td>34.234352</td>\n",
       "    </tr>\n",
       "    <tr>\n",
       "      <th>125</th>\n",
       "      <td>34.135606</td>\n",
       "    </tr>\n",
       "    <tr>\n",
       "      <th>125</th>\n",
       "      <td>34.304450</td>\n",
       "    </tr>\n",
       "    <tr>\n",
       "      <th>125</th>\n",
       "      <td>34.155411</td>\n",
       "    </tr>\n",
       "    <tr>\n",
       "      <th>125</th>\n",
       "      <td>34.153974</td>\n",
       "    </tr>\n",
       "    <tr>\n",
       "      <th>125</th>\n",
       "      <td>34.249601</td>\n",
       "    </tr>\n",
       "    <tr>\n",
       "      <th>125</th>\n",
       "      <td>33.969251</td>\n",
       "    </tr>\n",
       "    <tr>\n",
       "      <th>125</th>\n",
       "      <td>34.024105</td>\n",
       "    </tr>\n",
       "    <tr>\n",
       "      <th>125</th>\n",
       "      <td>34.188737</td>\n",
       "    </tr>\n",
       "    <tr>\n",
       "      <th>125</th>\n",
       "      <td>34.250449</td>\n",
       "    </tr>\n",
       "    <tr>\n",
       "      <th>125</th>\n",
       "      <td>34.096798</td>\n",
       "    </tr>\n",
       "    <tr>\n",
       "      <th>125</th>\n",
       "      <td>34.225069</td>\n",
       "    </tr>\n",
       "    <tr>\n",
       "      <th>125</th>\n",
       "      <td>34.345466</td>\n",
       "    </tr>\n",
       "    <tr>\n",
       "      <th>125</th>\n",
       "      <td>34.272228</td>\n",
       "    </tr>\n",
       "    <tr>\n",
       "      <th>125</th>\n",
       "      <td>34.213545</td>\n",
       "    </tr>\n",
       "    <tr>\n",
       "      <th>125</th>\n",
       "      <td>34.114840</td>\n",
       "    </tr>\n",
       "    <tr>\n",
       "      <th>125</th>\n",
       "      <td>34.211836</td>\n",
       "    </tr>\n",
       "    <tr>\n",
       "      <th>125</th>\n",
       "      <td>34.134602</td>\n",
       "    </tr>\n",
       "    <tr>\n",
       "      <th>125</th>\n",
       "      <td>34.016536</td>\n",
       "    </tr>\n",
       "    <tr>\n",
       "      <th>125</th>\n",
       "      <td>34.184150</td>\n",
       "    </tr>\n",
       "    <tr>\n",
       "      <th>125</th>\n",
       "      <td>34.330848</td>\n",
       "    </tr>\n",
       "    <tr>\n",
       "      <th>125</th>\n",
       "      <td>34.001169</td>\n",
       "    </tr>\n",
       "    <tr>\n",
       "      <th>125</th>\n",
       "      <td>34.173298</td>\n",
       "    </tr>\n",
       "    <tr>\n",
       "      <th>125</th>\n",
       "      <td>34.081003</td>\n",
       "    </tr>\n",
       "    <tr>\n",
       "      <th>125</th>\n",
       "      <td>34.467947</td>\n",
       "    </tr>\n",
       "    <tr>\n",
       "      <th>125</th>\n",
       "      <td>34.141647</td>\n",
       "    </tr>\n",
       "    <tr>\n",
       "      <th>125</th>\n",
       "      <td>34.344889</td>\n",
       "    </tr>\n",
       "    <tr>\n",
       "      <th>125</th>\n",
       "      <td>34.238826</td>\n",
       "    </tr>\n",
       "    <tr>\n",
       "      <th>...</th>\n",
       "      <td>...</td>\n",
       "    </tr>\n",
       "    <tr>\n",
       "      <th>16000</th>\n",
       "      <td>2828.716000</td>\n",
       "    </tr>\n",
       "    <tr>\n",
       "      <th>16000</th>\n",
       "      <td>3469.205000</td>\n",
       "    </tr>\n",
       "    <tr>\n",
       "      <th>16000</th>\n",
       "      <td>3686.872000</td>\n",
       "    </tr>\n",
       "    <tr>\n",
       "      <th>16000</th>\n",
       "      <td>1925.612000</td>\n",
       "    </tr>\n",
       "    <tr>\n",
       "      <th>16000</th>\n",
       "      <td>4163.221000</td>\n",
       "    </tr>\n",
       "    <tr>\n",
       "      <th>16000</th>\n",
       "      <td>3233.320000</td>\n",
       "    </tr>\n",
       "    <tr>\n",
       "      <th>16000</th>\n",
       "      <td>3392.191000</td>\n",
       "    </tr>\n",
       "    <tr>\n",
       "      <th>16000</th>\n",
       "      <td>3022.738000</td>\n",
       "    </tr>\n",
       "    <tr>\n",
       "      <th>16000</th>\n",
       "      <td>4066.753000</td>\n",
       "    </tr>\n",
       "    <tr>\n",
       "      <th>16000</th>\n",
       "      <td>3746.485000</td>\n",
       "    </tr>\n",
       "    <tr>\n",
       "      <th>16000</th>\n",
       "      <td>3080.022000</td>\n",
       "    </tr>\n",
       "    <tr>\n",
       "      <th>16000</th>\n",
       "      <td>5150.012000</td>\n",
       "    </tr>\n",
       "    <tr>\n",
       "      <th>16000</th>\n",
       "      <td>4474.503000</td>\n",
       "    </tr>\n",
       "    <tr>\n",
       "      <th>16000</th>\n",
       "      <td>3585.630000</td>\n",
       "    </tr>\n",
       "    <tr>\n",
       "      <th>16000</th>\n",
       "      <td>3597.865000</td>\n",
       "    </tr>\n",
       "    <tr>\n",
       "      <th>16000</th>\n",
       "      <td>3418.356000</td>\n",
       "    </tr>\n",
       "    <tr>\n",
       "      <th>16000</th>\n",
       "      <td>2112.314000</td>\n",
       "    </tr>\n",
       "    <tr>\n",
       "      <th>16000</th>\n",
       "      <td>1532.663000</td>\n",
       "    </tr>\n",
       "    <tr>\n",
       "      <th>16000</th>\n",
       "      <td>2274.165000</td>\n",
       "    </tr>\n",
       "    <tr>\n",
       "      <th>16000</th>\n",
       "      <td>2658.431000</td>\n",
       "    </tr>\n",
       "    <tr>\n",
       "      <th>16000</th>\n",
       "      <td>2207.628000</td>\n",
       "    </tr>\n",
       "    <tr>\n",
       "      <th>16000</th>\n",
       "      <td>3988.675000</td>\n",
       "    </tr>\n",
       "    <tr>\n",
       "      <th>16000</th>\n",
       "      <td>3983.275000</td>\n",
       "    </tr>\n",
       "    <tr>\n",
       "      <th>16000</th>\n",
       "      <td>4002.649000</td>\n",
       "    </tr>\n",
       "    <tr>\n",
       "      <th>16000</th>\n",
       "      <td>3551.684000</td>\n",
       "    </tr>\n",
       "    <tr>\n",
       "      <th>16000</th>\n",
       "      <td>3362.112000</td>\n",
       "    </tr>\n",
       "    <tr>\n",
       "      <th>16000</th>\n",
       "      <td>2674.676000</td>\n",
       "    </tr>\n",
       "    <tr>\n",
       "      <th>16000</th>\n",
       "      <td>4653.797000</td>\n",
       "    </tr>\n",
       "    <tr>\n",
       "      <th>16000</th>\n",
       "      <td>3353.074000</td>\n",
       "    </tr>\n",
       "    <tr>\n",
       "      <th>16000</th>\n",
       "      <td>1662.434000</td>\n",
       "    </tr>\n",
       "  </tbody>\n",
       "</table>\n",
       "<p>5000 rows × 1 columns</p>\n",
       "</div>"
      ],
      "text/plain": [
       "                M1\n",
       "L                 \n",
       "125      34.378366\n",
       "125      34.414432\n",
       "125      34.234352\n",
       "125      34.135606\n",
       "125      34.304450\n",
       "125      34.155411\n",
       "125      34.153974\n",
       "125      34.249601\n",
       "125      33.969251\n",
       "125      34.024105\n",
       "125      34.188737\n",
       "125      34.250449\n",
       "125      34.096798\n",
       "125      34.225069\n",
       "125      34.345466\n",
       "125      34.272228\n",
       "125      34.213545\n",
       "125      34.114840\n",
       "125      34.211836\n",
       "125      34.134602\n",
       "125      34.016536\n",
       "125      34.184150\n",
       "125      34.330848\n",
       "125      34.001169\n",
       "125      34.173298\n",
       "125      34.081003\n",
       "125      34.467947\n",
       "125      34.141647\n",
       "125      34.344889\n",
       "125      34.238826\n",
       "...            ...\n",
       "16000  2828.716000\n",
       "16000  3469.205000\n",
       "16000  3686.872000\n",
       "16000  1925.612000\n",
       "16000  4163.221000\n",
       "16000  3233.320000\n",
       "16000  3392.191000\n",
       "16000  3022.738000\n",
       "16000  4066.753000\n",
       "16000  3746.485000\n",
       "16000  3080.022000\n",
       "16000  5150.012000\n",
       "16000  4474.503000\n",
       "16000  3585.630000\n",
       "16000  3597.865000\n",
       "16000  3418.356000\n",
       "16000  2112.314000\n",
       "16000  1532.663000\n",
       "16000  2274.165000\n",
       "16000  2658.431000\n",
       "16000  2207.628000\n",
       "16000  3988.675000\n",
       "16000  3983.275000\n",
       "16000  4002.649000\n",
       "16000  3551.684000\n",
       "16000  3362.112000\n",
       "16000  2674.676000\n",
       "16000  4653.797000\n",
       "16000  3353.074000\n",
       "16000  1662.434000\n",
       "\n",
       "[5000 rows x 1 columns]"
      ]
     },
     "execution_count": 14,
     "metadata": {},
     "output_type": "execute_result"
    }
   ],
   "source": [
    "SAMPLE = pd.read_csv(\"./sample_data/power_law_data.csv\").set_index(\"L\")\n",
    "SAMPLE"
   ]
  },
  {
   "cell_type": "markdown",
   "metadata": {},
   "source": [
    "# Fit the data to sample expression"
   ]
  },
  {
   "cell_type": "code",
   "execution_count": null,
   "metadata": {
    "collapsed": false
   },
   "outputs": [],
   "source": [
    "print(display(f))    \n",
    "_f = accepting_ordered_params(f) #see comments in fnuction accepting_ordered_params\n",
    "est = curve_fit(_f, SAMPLE, estimate=[[0.1,2,1,]], display=True)\n",
    "print(\"Est params\", est[0])\n",
    "print(\"GoF\", goodness_of_fit(_f,SAMPLE, est))"
   ]
  },
  {
   "cell_type": "markdown",
   "metadata": {},
   "source": [
    "when fitting functions with scipy the convention is to pass the variables parameters in an ordered list f(X, params). To respect that we try to unravel our strict function of f(X=,A=,B=) into something that takes an ordered list. It is important of course to make sure that we map the right ordinal to the right key"
   ]
  },
  {
   "cell_type": "markdown",
   "metadata": {},
   "source": [
    "# Strategy"
   ]
  },
  {
   "cell_type": "code",
   "execution_count": null,
   "metadata": {
    "collapsed": false
   },
   "outputs": [],
   "source": [
    "s = evo.strategy(pop_size=100, genome_size=100, srate=0.52, mrate=0.01)"
   ]
  },
  {
   "cell_type": "markdown",
   "metadata": {},
   "source": [
    "# Evolve a test function"
   ]
  },
  {
   "cell_type": "code",
   "execution_count": null,
   "metadata": {
    "collapsed": false
   },
   "outputs": [],
   "source": [
    "lengths, fitnesses, genes = s.init()\n",
    "for generation in range(1000): \n",
    "    fitnesses = sg.symbols._evaluate(genes,expr)#default test function\n",
    "    meta = np.stack([length_of(genes),fitnesses],axis=1)\n",
    "    genes = s.select_and_mutate(meta,genes)\n",
    "    sg.store.update(meta,genes)"
   ]
  },
  {
   "cell_type": "markdown",
   "metadata": {},
   "source": [
    "# Curve fitting data\n"
   ]
  },
  {
   "cell_type": "code",
   "execution_count": 8,
   "metadata": {
    "collapsed": false
   },
   "outputs": [],
   "source": [
    "lengths, fitnesses, genes = s.init()\n",
    "for generation in range(1000):   \n",
    "    fitnesses = sg.symbols._evaluate_against_data(genes,expr,SAMPLE,p0=[[0.1, 2, 1, 1]]) \n",
    "    meta = np.stack([length_of(genes),fitnesses],axis=1)\n",
    "    sg.store.update(meta,genes)\n",
    "    genes = s.select_and_mutate(meta,genes)"
   ]
  },
  {
   "cell_type": "markdown",
   "metadata": {
    "collapsed": true
   },
   "source": [
    "# Spark\n",
    "\n",
    "This strategy focuses on the situation where the fitness eval is expensive. Evolution happens centrally and symbols are evaluated in parallel.\n",
    "\n",
    "We broadcast the data that is used for ftting so that workers have it in memory to process their batches"
   ]
  },
  {
   "cell_type": "code",
   "execution_count": 122,
   "metadata": {
    "ExecuteTime": {
     "end_time": "2017-10-10T21:44:11.191154Z",
     "start_time": "2017-10-10T21:44:11.173868Z"
    },
    "collapsed": false
   },
   "outputs": [
    {
     "ename": "NameError",
     "evalue": "name 's' is not defined",
     "output_type": "error",
     "traceback": [
      "\u001b[0;31m---------------------------------------------------------------------------\u001b[0m",
      "\u001b[0;31mNameError\u001b[0m                                 Traceback (most recent call last)",
      "\u001b[0;32m<ipython-input-122-3874154ebea1>\u001b[0m in \u001b[0;36m<module>\u001b[0;34m()\u001b[0m\n\u001b[1;32m      6\u001b[0m         \u001b[0;32mreturn\u001b[0m \u001b[0msc\u001b[0m\u001b[0;34m.\u001b[0m\u001b[0mapply_function\u001b[0m\u001b[0;34m(\u001b[0m\u001b[0mpop\u001b[0m\u001b[0;34m,\u001b[0m \u001b[0mf\u001b[0m\u001b[0;34m)\u001b[0m\u001b[0;34m\u001b[0m\u001b[0m\n\u001b[1;32m      7\u001b[0m \u001b[0;34m\u001b[0m\u001b[0m\n\u001b[0;32m----> 8\u001b[0;31m \u001b[0mlengths\u001b[0m\u001b[0;34m,\u001b[0m \u001b[0mfitnesses\u001b[0m\u001b[0;34m,\u001b[0m \u001b[0mgenes\u001b[0m \u001b[0;34m=\u001b[0m \u001b[0ms\u001b[0m\u001b[0;34m.\u001b[0m\u001b[0minit\u001b[0m\u001b[0;34m(\u001b[0m\u001b[0;34m)\u001b[0m\u001b[0;34m\u001b[0m\u001b[0m\n\u001b[0m\u001b[1;32m      9\u001b[0m \u001b[0;32mfor\u001b[0m \u001b[0mgeneration\u001b[0m \u001b[0;32min\u001b[0m \u001b[0mrange\u001b[0m\u001b[0;34m(\u001b[0m\u001b[0;36m100\u001b[0m\u001b[0;34m)\u001b[0m\u001b[0;34m:\u001b[0m\u001b[0;34m\u001b[0m\u001b[0m\n\u001b[1;32m     10\u001b[0m     \u001b[0mfitnesses\u001b[0m \u001b[0;34m=\u001b[0m \u001b[0mpar_eval\u001b[0m\u001b[0;34m(\u001b[0m\u001b[0mgenes\u001b[0m\u001b[0;34m,\u001b[0m\u001b[0mexpr\u001b[0m\u001b[0;34m)\u001b[0m\u001b[0;34m\u001b[0m\u001b[0m\n",
      "\u001b[0;31mNameError\u001b[0m: name 's' is not defined"
     ]
    }
   ],
   "source": [
    "#its almost the same except we wrap the call - we broadcast the data so it is shared for everyone in memory\n",
    "def par_eval(pop):\n",
    "    with sparkge_context() as sc:\n",
    "        DATA = sc.sc.broadcast(\"data\", SAMPLE)\n",
    "        f = lambda genes : sg.symbols._evaluate_against_data(genes,expr,DATA,p0=[[0.1, 2, 1, 1]]) \n",
    "        return sc.apply_function(pop, f)\n",
    "\n",
    "lengths, fitnesses, genes = s.init()\n",
    "for generation in range(100):   \n",
    "    fitnesses = par_eval(genes,expr) \n",
    "    meta = np.stack([length_of(genes),fitnesses],axis=1)\n",
    "    store.update(meta,genes)\n",
    "    genes = s.select_and_mutate(meta,genes)"
   ]
  },
  {
   "cell_type": "code",
   "execution_count": null,
   "metadata": {
    "collapsed": true
   },
   "outputs": [],
   "source": []
  }
 ],
 "metadata": {
  "anaconda-cloud": {},
  "kernelspec": {
   "display_name": "Python 3",
   "language": "python",
   "name": "python3"
  },
  "language_info": {
   "codemirror_mode": {
    "name": "ipython",
    "version": 3
   },
   "file_extension": ".py",
   "mimetype": "text/x-python",
   "name": "python",
   "nbconvert_exporter": "python",
   "pygments_lexer": "ipython3",
   "version": "3.5.2"
  }
 },
 "nbformat": 4,
 "nbformat_minor": 0
}
