{
 "cells": [
  {
   "cell_type": "code",
   "execution_count": null,
   "metadata": {
    "collapsed": false
   },
   "outputs": [],
   "source": [
    "import pandas as pd\n",
    "import numpy as np\n",
    "import sparkge as sg\n",
    "from sparkge import evolution as evo\n",
    "from sparkge.evolution import length_of\n",
    "from sparkge.providers.fitness import *\n",
    "import warnings\n",
    "%matplotlib inline\n",
    "res = np.seterr(divide='ignore', invalid='ignore') \n",
    "warnings.filterwarnings(\"ignore\")\n",
    "#set recursion limit sparge.configure()"
   ]
  },
  {
   "cell_type": "markdown",
   "metadata": {},
   "source": [
    "This notebook describes basic useage of sparkge. See the concepts notebook for a better understanding of the patterns used"
   ]
  },
  {
   "cell_type": "markdown",
   "metadata": {},
   "source": [
    "# Grammar"
   ]
  },
  {
   "cell_type": "code",
   "execution_count": null,
   "metadata": {
    "collapsed": false
   },
   "outputs": [],
   "source": [
    "from sparkge.symbols import *\n",
    "\n",
    "@terminal\n",
    "def var():   return [\"X\"]\n",
    "\n",
    "@terminal\n",
    "def param():  return [ \"A\", \"B\"]\n",
    "\n",
    "@terminal(is_constant=True)\n",
    "def const():return [ 2,3,4,5]#, np.pi\n",
    "\n",
    "@operator()\n",
    "def uop(): return [np.exp, np.log]#np.sin, np.cos , np.log, np.sin,\n",
    "\n",
    "@operator()\n",
    "def op(): return [add, sub, mul, truediv]\n",
    "\n",
    "@operator()\n",
    "def power(): return [np.power]\n",
    "\n",
    "def expr(genome=None, args = []): \n",
    "    return as_expression(genome, [ op(expr,expr), power(expr,param) ,var, param])\n"
   ]
  },
  {
   "cell_type": "markdown",
   "metadata": {},
   "source": [
    "# Sample Expressions"
   ]
  },
  {
   "cell_type": "code",
   "execution_count": null,
   "metadata": {
    "collapsed": false
   },
   "outputs": [],
   "source": [
    "power_sample = np.array([1,0,2])\n",
    "power_law_sample = np.array([0,2,3,1, 1, 1,2])\n",
    "#sample using a random genome - re-run cell to see other instances\n",
    "f= expr(evo.chain(l=power_law_sample,max_wraps=2))#np.array([0,0,3,3])\n",
    "print(f(X=3,A=4,B=6,C=5))\n",
    "from sparkge.symbols import _repr_\n",
    "print(_repr_(f))\n",
    "S= display(f)\n",
    "S"
   ]
  },
  {
   "cell_type": "markdown",
   "metadata": {},
   "source": [
    "## Get some sample data"
   ]
  },
  {
   "cell_type": "code",
   "execution_count": null,
   "metadata": {
    "collapsed": false
   },
   "outputs": [],
   "source": [
    "SAMPLE = pd.read_csv(\"./sample_data/power_law_data\").set_index(\"L\")\n",
    "SAMPLE.head()"
   ]
  },
  {
   "cell_type": "markdown",
   "metadata": {},
   "source": [
    "# Fit the data to sample expression"
   ]
  },
  {
   "cell_type": "code",
   "execution_count": null,
   "metadata": {
    "collapsed": false
   },
   "outputs": [],
   "source": [
    "S = expr(chain(examples[10]))\n",
    "display(S)"
   ]
  },
  {
   "cell_type": "code",
   "execution_count": null,
   "metadata": {
    "collapsed": false
   },
   "outputs": [],
   "source": [
    "\n",
    "#display(S)\n",
    "f= S\n",
    "print(display(f)) \n",
    "_f = accepting_ordered_params(f) #see comments in fnuction accepting_ordered_params\n",
    "est = curve_fit(_f, SAMPLE, estimate=[[0.1,2,1,]], display=True)\n",
    "print(\"Est params\", est[0])\n",
    "print(\"GoF\", goodness_of_fit(_f,SAMPLE, est))"
   ]
  },
  {
   "cell_type": "markdown",
   "metadata": {},
   "source": [
    "when fitting functions with scipy the convention is to pass the variables parameters in an ordered list f(X, params). To respect that we try to unravel our strict function of f(X=,A=,B=) into something that takes an ordered list. It is important of course to make sure that we map the right ordinal to the right key"
   ]
  },
  {
   "cell_type": "markdown",
   "metadata": {},
   "source": [
    "# Strategy"
   ]
  },
  {
   "cell_type": "code",
   "execution_count": null,
   "metadata": {
    "collapsed": false
   },
   "outputs": [],
   "source": [
    "s = evo.strategy(pop_size=200, genome_size=100, srate=0.52, mrate=0.01)"
   ]
  },
  {
   "cell_type": "markdown",
   "metadata": {},
   "source": [
    "# Evolve a test function"
   ]
  },
  {
   "cell_type": "code",
   "execution_count": null,
   "metadata": {
    "collapsed": false
   },
   "outputs": [],
   "source": [
    "lengths, fitnesses, genes = s.init()\n",
    "for generation in range(1000): \n",
    "    fitnesses = sg.symbols._evaluate(genes,expr)#default test function\n",
    "    meta = np.stack([length_of(genes),fitnesses],axis=1)\n",
    "    genes = s.select_and_mutate(meta,genes)\n",
    "    sg.store.update(meta,genes)"
   ]
  },
  {
   "cell_type": "markdown",
   "metadata": {},
   "source": [
    "# Curve fitting data\n"
   ]
  },
  {
   "cell_type": "code",
   "execution_count": null,
   "metadata": {
    "collapsed": false
   },
   "outputs": [],
   "source": [
    "lengths, fitnesses, genes = s.init()\n",
    "examples = []\n",
    "for generation in range(1000):   \n",
    "    fitnesses = sg.symbols._evaluate_against_data(genes,expr,SAMPLE,p0=[[0.1, 2, 1, 1]]) \n",
    "    meta = np.stack([length_of(genes),fitnesses],axis=1)\n",
    "    sg.store.update(meta,genes)\n",
    "    print(fitnesses.min())\n",
    "    if fitnesses.min() < 0.23:\n",
    "        examples.append(genes[np.argmin(fitnesses)])\n",
    "    genes = s.select_and_mutate(meta,genes)"
   ]
  },
  {
   "cell_type": "code",
   "execution_count": null,
   "metadata": {
    "collapsed": false
   },
   "outputs": [],
   "source": [
    "S = expr(chain(examples[0]))\n",
    "display(S)"
   ]
  },
  {
   "cell_type": "markdown",
   "metadata": {
    "collapsed": true
   },
   "source": [
    "# Spark\n",
    "\n",
    "This strategy focuses on the situation where the fitness eval is expensive. Evolution happens centrally and symbols are evaluated in parallel.\n",
    "\n",
    "We broadcast the data that is used for ftting so that workers have it in memory to process their batches"
   ]
  },
  {
   "cell_type": "code",
   "execution_count": null,
   "metadata": {
    "ExecuteTime": {
     "end_time": "2017-10-10T21:44:11.191154Z",
     "start_time": "2017-10-10T21:44:11.173868Z"
    },
    "collapsed": false
   },
   "outputs": [],
   "source": [
    "#helper to deplot sparkge latest to a cluster - ensure deps installed there\n",
    "#sg.__deploy__([\"10.132.0.8\",\"10.132.0.9\",\"10.132.0.10\"])\n",
    "#its almost the same except we wrap the call - we broadcast the data so it is shared for everyone in memory\n",
    "def par_eval(pop):\n",
    "    with sg.sparkge_context() as sc:\n",
    "        DATA = sc.sc.broadcast(SAMPLE)\n",
    "        f = lambda genes : sg.symbols._evaluate_against_data(genes,expr,DATA,p0=[[0.1, 2, 1, 1]]) \n",
    "        return sc.apply_function(pop, f)\n",
    "\n",
    "lengths, fitnesses, genes = s.init()\n",
    "for generation in range(100):   \n",
    "    fitnesses = par_eval(genes) \n",
    "    meta = np.stack([length_of(genes),fitnesses],axis=1)\n",
    "    sg.store.update(meta,genes)\n",
    "    genes = s.select_and_mutate(meta,genes)"
   ]
  },
  {
   "cell_type": "code",
   "execution_count": null,
   "metadata": {
    "collapsed": true
   },
   "outputs": [],
   "source": []
  }
 ],
 "metadata": {
  "anaconda-cloud": {},
  "kernelspec": {
   "display_name": "Python 3",
   "language": "python",
   "name": "python3"
  },
  "language_info": {
   "codemirror_mode": {
    "name": "ipython",
    "version": 3
   },
   "file_extension": ".py",
   "mimetype": "text/x-python",
   "name": "python",
   "nbconvert_exporter": "python",
   "pygments_lexer": "ipython3",
   "version": "3.5.2"
  }
 },
 "nbformat": 4,
 "nbformat_minor": 0
}
