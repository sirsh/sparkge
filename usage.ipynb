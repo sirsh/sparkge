{
 "cells": [
  {
   "cell_type": "code",
   "execution_count": null,
   "metadata": {
    "collapsed": true
   },
   "outputs": [],
   "source": [
    "#import sparkge as sg\n",
    "from sparkge import context as ctx\n",
    "from sparkge import evolution as evo\n",
    "from sparkge.evolution import lengths"
   ]
  },
  {
   "cell_type": "markdown",
   "metadata": {},
   "source": [
    "# Grammar"
   ]
  },
  {
   "cell_type": "code",
   "execution_count": null,
   "metadata": {
    "collapsed": false
   },
   "outputs": [],
   "source": [
    "from sparkge.symbols import *\n",
    "@terminal\n",
    "def var():return [\"X\"]\n",
    "\n",
    "@operator()\n",
    "def op(): return [add, sub, mul]\n",
    "\n",
    "def expr(genome=None, args = []):  return as_expression(genome, [op(expr,expr),var])\n"
   ]
  },
  {
   "cell_type": "markdown",
   "metadata": {},
   "source": [
    "# Strategy"
   ]
  },
  {
   "cell_type": "code",
   "execution_count": null,
   "metadata": {
    "collapsed": true
   },
   "outputs": [],
   "source": [
    "s = evo.strategy() # i use one simple collection of strategies for testing"
   ]
  },
  {
   "cell_type": "markdown",
   "metadata": {},
   "source": [
    "## 1) local eval"
   ]
  },
  {
   "cell_type": "code",
   "execution_count": null,
   "metadata": {
    "collapsed": true
   },
   "outputs": [],
   "source": [
    "#evaluation over spark or not\n",
    "evaluate = _evaluate # default from symbols"
   ]
  },
  {
   "cell_type": "markdown",
   "metadata": {},
   "source": [
    "## 2) Or, spark eval "
   ]
  },
  {
   "cell_type": "code",
   "execution_count": null,
   "metadata": {
    "collapsed": true
   },
   "outputs": [],
   "source": [
    "def parDo(pop):\n",
    "    #ctx.sc\n",
    "    #organise ids into mini mbatches and then remotely load data and eval each\n",
    "    pass\n",
    "\n",
    "evaluate = parDo"
   ]
  },
  {
   "cell_type": "markdown",
   "metadata": {},
   "source": [
    "# Go for it"
   ]
  },
  {
   "cell_type": "code",
   "execution_count": null,
   "metadata": {
    "collapsed": true
   },
   "outputs": [],
   "source": [
    "for i, generation in enumerate(range(1000)): \n",
    "    individual_fitnesses = evaluate(individual_genotypes)\n",
    "    individuals = np.stack([lengths(individual_genotypes),individual_fitnesses],axis=1)\n",
    "    pool_index,replacement_index = s.selection(individuals)\n",
    "    individual_genotypes = np.concatenate([individual_genotypes[replacement_index], \n",
    "                                       s.X(individual_genotypes[pool_index])]) + mutations(0.05)\n",
    "    #ctx.stats.update(individuals, individual_genotypes)"
   ]
  }
 ],
 "metadata": {
  "kernelspec": {
   "display_name": "Python 3",
   "language": "python",
   "name": "python3"
  },
  "language_info": {
   "codemirror_mode": {
    "name": "ipython",
    "version": 3
   },
   "file_extension": ".py",
   "mimetype": "text/x-python",
   "name": "python",
   "nbconvert_exporter": "python",
   "pygments_lexer": "ipython3",
   "version": "3.5.2"
  }
 },
 "nbformat": 4,
 "nbformat_minor": 0
}
